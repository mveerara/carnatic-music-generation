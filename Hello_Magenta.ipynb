{
 "cells": [
  {
   "cell_type": "markdown",
   "metadata": {
    "id": "dPkdg9jTjkTd"
   },
   "source": [
    "# Making music with Magenta\n",
    "\n",
    "[Magenta](https://magenta.tensorflow.org/) is a Python library that helps you generate art and music. In this tutorial, we'll talk about the music generation bits in `note_seq` -- how to make your browser sing, and in particular, how to make your browser sing like you!\n",
    "\n",
    "As a library, `note_seq` can help you:\n",
    "- make music using some of the neat abstractions and utilities in the library\n",
    "- use Machine Learning models to generate music."
   ]
  },
  {
   "cell_type": "markdown",
   "metadata": {
    "id": "R122bwRNbTus"
   },
   "source": [
    "# Basic Instructions\n",
    "\n",
    "1. Double click on the hidden cells to make them visible, or select \"View > Expand Sections\" in the menu at the top.\n",
    "2. Hover over the \"`[ ]`\" in the top-left corner of each cell and click on the \"Play\" button to run it, in order.\n",
    "3. Listen to the generated samples.\n",
    "4. Make it your own: copy the notebook, modify the code, train your own models, upload your own MIDI, etc. See the Magenta code on [GitHub](https://github.com/magenta/magenta) for more information!"
   ]
  },
  {
   "cell_type": "markdown",
   "metadata": {
    "id": "zJbq5TmtFJUU"
   },
   "source": [
    "# Step 0: First things first!\n",
    "If you're going to use `Magenta`, you need to install it and its dependencies. Some of the later examples will also download other dependencies (such as models and checkpoints)"
   ]
  },
  {
   "cell_type": "code",
   "execution_count": 1,
   "metadata": {
    "colab": {
     "base_uri": "https://localhost:8080/"
    },
    "id": "PfRDVhNs3UFx",
    "outputId": "9c6d05b2-e621-4313-d343-0b4e63d02ba2"
   },
   "outputs": [
    {
     "name": "stdout",
     "output_type": "stream",
     "text": [
      "Installing dependencies...\n"
     ]
    },
    {
     "name": "stderr",
     "output_type": "stream",
     "text": [
      "'apt-get' is not recognized as an internal or external command,\n",
      "operable program or batch file.\n"
     ]
    },
    {
     "name": "stdout",
     "output_type": "stream",
     "text": [
      "Importing libraries and defining some helper functions...\n"
     ]
    },
    {
     "name": "stderr",
     "output_type": "stream",
     "text": [
      "  ERROR: Command errored out with exit status 1:\n",
      "   command: 'C:\\Users\\Mukund\\anaconda3\\python.exe' -u -c 'import io, os, sys, setuptools, tokenize; sys.argv[0] = '\"'\"'C:\\\\Users\\\\Mukund\\\\AppData\\\\Local\\\\Temp\\\\pip-install-2xprfdtc\\\\llvmlite_8201dbc65469421d808432b2253f3676\\\\setup.py'\"'\"'; __file__='\"'\"'C:\\\\Users\\\\Mukund\\\\AppData\\\\Local\\\\Temp\\\\pip-install-2xprfdtc\\\\llvmlite_8201dbc65469421d808432b2253f3676\\\\setup.py'\"'\"';f = getattr(tokenize, '\"'\"'open'\"'\"', open)(__file__) if os.path.exists(__file__) else io.StringIO('\"'\"'from setuptools import setup; setup()'\"'\"');code = f.read().replace('\"'\"'\\r\\n'\"'\"', '\"'\"'\\n'\"'\"');f.close();exec(compile(code, __file__, '\"'\"'exec'\"'\"'))' bdist_wheel -d 'C:\\Users\\Mukund\\AppData\\Local\\Temp\\pip-wheel-grn8q13r'\n",
      "       cwd: C:\\Users\\Mukund\\AppData\\Local\\Temp\\pip-install-2xprfdtc\\llvmlite_8201dbc65469421d808432b2253f3676\\\n",
      "  Complete output (24 lines):\n",
      "  running bdist_wheel\n",
      "  C:\\Users\\Mukund\\anaconda3\\python.exe C:\\Users\\Mukund\\AppData\\Local\\Temp\\pip-install-2xprfdtc\\llvmlite_8201dbc65469421d808432b2253f3676\\ffi\\build.py\n",
      "  Trying generator 'Visual Studio 14 2015 Win64'\n",
      "  Traceback (most recent call last):\n",
      "    File \"C:\\Users\\Mukund\\AppData\\Local\\Temp\\pip-install-2xprfdtc\\llvmlite_8201dbc65469421d808432b2253f3676\\ffi\\build.py\", line 192, in <module>\n",
      "      main()\n",
      "    File \"C:\\Users\\Mukund\\AppData\\Local\\Temp\\pip-install-2xprfdtc\\llvmlite_8201dbc65469421d808432b2253f3676\\ffi\\build.py\", line 180, in main\n",
      "      main_win32()\n",
      "    File \"C:\\Users\\Mukund\\AppData\\Local\\Temp\\pip-install-2xprfdtc\\llvmlite_8201dbc65469421d808432b2253f3676\\ffi\\build.py\", line 89, in main_win32\n",
      "      generator = find_win32_generator()\n",
      "    File \"C:\\Users\\Mukund\\AppData\\Local\\Temp\\pip-install-2xprfdtc\\llvmlite_8201dbc65469421d808432b2253f3676\\ffi\\build.py\", line 77, in find_win32_generator\n",
      "      try_cmake(cmake_dir, build_dir, generator)\n",
      "    File \"C:\\Users\\Mukund\\AppData\\Local\\Temp\\pip-install-2xprfdtc\\llvmlite_8201dbc65469421d808432b2253f3676\\ffi\\build.py\", line 28, in try_cmake\n",
      "      subprocess.check_call(['cmake', '-G', generator, cmake_dir])\n",
      "    File \"C:\\Users\\Mukund\\anaconda3\\lib\\subprocess.py\", line 368, in check_call\n",
      "      retcode = call(*popenargs, **kwargs)\n",
      "    File \"C:\\Users\\Mukund\\anaconda3\\lib\\subprocess.py\", line 349, in call\n",
      "      with Popen(*popenargs, **kwargs) as p:\n",
      "    File \"C:\\Users\\Mukund\\anaconda3\\lib\\subprocess.py\", line 951, in __init__\n",
      "      self._execute_child(args, executable, preexec_fn, close_fds,\n",
      "    File \"C:\\Users\\Mukund\\anaconda3\\lib\\subprocess.py\", line 1420, in _execute_child\n",
      "      hp, ht, pid, tid = _winapi.CreateProcess(executable, args,\n",
      "  FileNotFoundError: [WinError 2] The system cannot find the file specified\n",
      "  error: command 'C:\\\\Users\\\\Mukund\\\\anaconda3\\\\python.exe' failed with exit code 1\n",
      "  ----------------------------------------\n",
      "  ERROR: Failed building wheel for llvmlite\n",
      "ERROR: Cannot uninstall 'llvmlite'. It is a distutils installed project and thus we cannot accurately determine which files belong to it which would lead to only a partial uninstall.\n"
     ]
    },
    {
     "ename": "ModuleNotFoundError",
     "evalue": "No module named 'google.colab'",
     "output_type": "error",
     "traceback": [
      "\u001b[1;31m---------------------------------------------------------------------------\u001b[0m",
      "\u001b[1;31mModuleNotFoundError\u001b[0m                       Traceback (most recent call last)",
      "\u001b[1;32m~\\AppData\\Local\\Temp/ipykernel_12256/2837792849.py\u001b[0m in \u001b[0;36m<module>\u001b[1;34m\u001b[0m\n\u001b[0;32m     18\u001b[0m \u001b[1;33m\u001b[0m\u001b[0m\n\u001b[0;32m     19\u001b[0m \u001b[0mprint\u001b[0m\u001b[1;33m(\u001b[0m\u001b[1;34m'Importing libraries and defining some helper functions...'\u001b[0m\u001b[1;33m)\u001b[0m\u001b[1;33m\u001b[0m\u001b[1;33m\u001b[0m\u001b[0m\n\u001b[1;32m---> 20\u001b[1;33m \u001b[1;32mfrom\u001b[0m \u001b[0mgoogle\u001b[0m\u001b[1;33m.\u001b[0m\u001b[0mcolab\u001b[0m \u001b[1;32mimport\u001b[0m \u001b[0mfiles\u001b[0m\u001b[1;33m\u001b[0m\u001b[1;33m\u001b[0m\u001b[0m\n\u001b[0m\u001b[0;32m     21\u001b[0m \u001b[1;33m\u001b[0m\u001b[0m\n\u001b[0;32m     22\u001b[0m \u001b[1;32mimport\u001b[0m \u001b[0mmagenta\u001b[0m\u001b[1;33m\u001b[0m\u001b[1;33m\u001b[0m\u001b[0m\n",
      "\u001b[1;31mModuleNotFoundError\u001b[0m: No module named 'google.colab'"
     ]
    }
   ],
   "source": [
    "#@test {\"output\": \"ignore\"}\n",
    "print('Installing dependencies...')\n",
    "!apt-get update -qq && apt-get install -qq libfluidsynth1 fluid-soundfont-gm build-essential libasound2-dev libjack-dev\n",
    "!pip install -qU pyfluidsynth pretty_midi\n",
    "\n",
    "!pip install -qU magenta\n",
    "\n",
    "# Hack to allow python to pick up the newly-installed fluidsynth lib. \n",
    "# This is only needed for the hosted Colab environment.\n",
    "import ctypes.util\n",
    "orig_ctypes_util_find_library = ctypes.util.find_library\n",
    "def proxy_find_library(lib):\n",
    "  if lib == 'fluidsynth':\n",
    "    return 'libfluidsynth.so.1'\n",
    "  else:\n",
    "    return orig_ctypes_util_find_library(lib)\n",
    "ctypes.util.find_library = proxy_find_library\n",
    "\n",
    "print('Importing libraries and defining some helper functions...')\n",
    "from google.colab import files\n",
    "\n",
    "import magenta\n",
    "import note_seq\n",
    "import tensorflow\n",
    "\n",
    "print('🎉 Done!')\n",
    "print(magenta.__version__)\n",
    "print(tensorflow.__version__)"
   ]
  },
  {
   "cell_type": "markdown",
   "metadata": {
    "id": "oLSgiA6Uktpm"
   },
   "source": [
    "# Step 1. Making sounds with NoteSequences\n",
    "\n",
    "Everything in `Magenta` is centered around [NoteSequences](https://github.com/magenta/note-seq/blob/main/note_seq/protobuf/music.proto#L27). This is an abstract representation of a series of notes, each with different pitches, instruments and strike velocities, much like [MIDI](https://en.wikipedia.org/wiki/MIDI).\n",
    "\n",
    "For example, this is a `NoteSequence` that represents \"Twinkle Twinkle Little Star\". Try changing the pitches to see how the sound changes!"
   ]
  },
  {
   "cell_type": "code",
   "execution_count": null,
   "metadata": {
    "colab": {
     "base_uri": "https://localhost:8080/",
     "height": 533
    },
    "id": "71dgCmmBli-s",
    "outputId": "5b2e83cc-e002-4d0c-c66b-3fff902c86e0"
   },
   "outputs": [],
   "source": [
    "from note_seq.protobuf import music_pb2\n",
    "\n",
    "twinkle_twinkle = music_pb2.NoteSequence()\n",
    "\n",
    "# Add the notes to the sequence.\n",
    "twinkle_twinkle.notes.add(pitch=60, start_time=0.0, end_time=0.5, velocity=80)\n",
    "twinkle_twinkle.notes.add(pitch=60, start_time=0.5, end_time=1.0, velocity=80)\n",
    "twinkle_twinkle.notes.add(pitch=67, start_time=1.0, end_time=1.5, velocity=80)\n",
    "twinkle_twinkle.notes.add(pitch=67, start_time=1.5, end_time=2.0, velocity=80)\n",
    "twinkle_twinkle.notes.add(pitch=69, start_time=2.0, end_time=2.5, velocity=80)\n",
    "twinkle_twinkle.notes.add(pitch=69, start_time=2.5, end_time=3.0, velocity=80)\n",
    "twinkle_twinkle.notes.add(pitch=67, start_time=3.0, end_time=4.0, velocity=80)\n",
    "twinkle_twinkle.notes.add(pitch=65, start_time=4.0, end_time=4.5, velocity=80)\n",
    "twinkle_twinkle.notes.add(pitch=65, start_time=4.5, end_time=5.0, velocity=80)\n",
    "twinkle_twinkle.notes.add(pitch=64, start_time=5.0, end_time=5.5, velocity=80)\n",
    "twinkle_twinkle.notes.add(pitch=64, start_time=5.5, end_time=6.0, velocity=80)\n",
    "twinkle_twinkle.notes.add(pitch=62, start_time=6.0, end_time=6.5, velocity=80)\n",
    "twinkle_twinkle.notes.add(pitch=62, start_time=6.5, end_time=7.0, velocity=80)\n",
    "twinkle_twinkle.notes.add(pitch=60, start_time=7.0, end_time=8.0, velocity=80) \n",
    "twinkle_twinkle.total_time = 8\n",
    "\n",
    "twinkle_twinkle.tempos.add(qpm=60);\n",
    "\n",
    "# This is a colab utility method that visualizes a NoteSequence.\n",
    "note_seq.plot_sequence(twinkle_twinkle)\n",
    "\n",
    "# This is a colab utility method that plays a NoteSequence.\n",
    "note_seq.play_sequence(twinkle_twinkle,synth=note_seq.fluidsynth)\n",
    "\n",
    "# Here's another NoteSequence!\n",
    "teapot = music_pb2.NoteSequence()\n",
    "teapot.notes.add(pitch=69, start_time=0, end_time=0.5, velocity=80)\n",
    "teapot.notes.add(pitch=71, start_time=0.5, end_time=1, velocity=80)\n",
    "teapot.notes.add(pitch=73, start_time=1, end_time=1.5, velocity=80)\n",
    "teapot.notes.add(pitch=74, start_time=1.5, end_time=2, velocity=80)\n",
    "teapot.notes.add(pitch=76, start_time=2, end_time=2.5, velocity=80)\n",
    "teapot.notes.add(pitch=81, start_time=3, end_time=4, velocity=80)\n",
    "teapot.notes.add(pitch=78, start_time=4, end_time=5, velocity=80)\n",
    "teapot.notes.add(pitch=81, start_time=5, end_time=6, velocity=80)\n",
    "teapot.notes.add(pitch=76, start_time=6, end_time=8, velocity=80)\n",
    "teapot.total_time = 8\n",
    "\n",
    "teapot.tempos.add(qpm=60);\n",
    "\n",
    "note_seq.plot_sequence(teapot)\n",
    "note_seq.play_sequence(teapot,synth=note_seq.synthesize)"
   ]
  },
  {
   "cell_type": "markdown",
   "metadata": {
    "id": "oC7BS_4OwCIR"
   },
   "source": [
    "You can use other instruments for your sequences. For example, the sequence below should sound like a drum solo!"
   ]
  },
  {
   "cell_type": "code",
   "execution_count": null,
   "metadata": {
    "colab": {
     "base_uri": "https://localhost:8080/",
     "height": 275
    },
    "id": "DQLjca9SwOiI",
    "outputId": "b63cdf53-f3d6-40aa-d09e-00b747243c86"
   },
   "outputs": [],
   "source": [
    "drums = music_pb2.NoteSequence()\n",
    "\n",
    "drums.notes.add(pitch=36, start_time=0, end_time=0.125, is_drum=True, instrument=10, velocity=80)\n",
    "drums.notes.add(pitch=38, start_time=0, end_time=0.125, is_drum=True, instrument=10, velocity=80)\n",
    "drums.notes.add(pitch=42, start_time=0, end_time=0.125, is_drum=True, instrument=10, velocity=80)\n",
    "drums.notes.add(pitch=46, start_time=0, end_time=0.125, is_drum=True, instrument=10, velocity=80)\n",
    "drums.notes.add(pitch=42, start_time=0.25, end_time=0.375, is_drum=True, instrument=10, velocity=80)\n",
    "drums.notes.add(pitch=42, start_time=0.375, end_time=0.5, is_drum=True, instrument=10, velocity=80)\n",
    "drums.notes.add(pitch=42, start_time=0.5, end_time=0.625, is_drum=True, instrument=10, velocity=80)\n",
    "drums.notes.add(pitch=50, start_time=0.5, end_time=0.625, is_drum=True, instrument=10, velocity=80)\n",
    "drums.notes.add(pitch=36, start_time=0.75, end_time=0.875, is_drum=True, instrument=10, velocity=80)\n",
    "drums.notes.add(pitch=38, start_time=0.75, end_time=0.875, is_drum=True, instrument=10, velocity=80)\n",
    "drums.notes.add(pitch=42, start_time=0.75, end_time=0.875, is_drum=True, instrument=10, velocity=80)\n",
    "drums.notes.add(pitch=45, start_time=0.75, end_time=0.875, is_drum=True, instrument=10, velocity=80)\n",
    "drums.notes.add(pitch=36, start_time=1, end_time=1.125, is_drum=True, instrument=10, velocity=80)\n",
    "drums.notes.add(pitch=42, start_time=1, end_time=1.125, is_drum=True, instrument=10, velocity=80)\n",
    "drums.notes.add(pitch=46, start_time=1, end_time=1.125, is_drum=True, instrument=10, velocity=80)\n",
    "drums.notes.add(pitch=42, start_time=1.25, end_time=1.375, is_drum=True, instrument=10, velocity=80)\n",
    "drums.notes.add(pitch=48, start_time=1.25, end_time=1.375, is_drum=True, instrument=10, velocity=80)\n",
    "drums.notes.add(pitch=50, start_time=1.25, end_time=1.375, is_drum=True, instrument=10, velocity=80)\n",
    "drums.total_time = 1.375\n",
    "\n",
    "drums.tempos.add(qpm=60)\n",
    "\n",
    "# This is a colab utility method that visualizes a NoteSequence.\n",
    "note_seq.plot_sequence(drums)\n",
    "\n",
    "# This is a colab utility method that plays a NoteSequence.\n",
    "note_seq.play_sequence(drums,synth=note_seq.fluidsynth)"
   ]
  },
  {
   "cell_type": "code",
   "execution_count": null,
   "metadata": {
    "id": "e8ylI0QzljuW"
   },
   "outputs": [],
   "source": [
    "import magenta\n",
    "import note_seq\n",
    "import tensorflow\n",
    "from note_seq.protobuf import music_pb2\n",
    "\n",
    "# set starting pitch note on piano keyboard, you can adjust as per raga needs\n",
    "pitch = 60 # C5\n",
    "# 12 notes on piano keyboard\n",
    "sa,ri1,ri2, ga1,ga2, ma1, ma2, pa, da1,da2, ni1,ni2, sam = pitch, pitch+1, pitch+2, pitch+3, pitch+4, pitch+5,pitch+6,pitch+7,pitch+8,pitch+9,pitch+10,pitch+11,pitch+12\n",
    "raga_notes = [sa, ri1, ga2, ma1, pa, da1, ni2, sam]\n",
    "def play_raga(raga_notes):\n",
    "  raga = music_pb2.NoteSequence()\n",
    "  s_time = 0.0\n",
    "# aarohana\n",
    "  for swara in raga_notes:\n",
    "    raga.notes.add(pitch=swara, start_time=s_time, end_time=s_time+0.5, velocity=80 )\n",
    "    s_time += 0.5\n",
    "  # avarohana\n",
    "  for swara in raga_notes[::-1]:  # reverse notes and play as the number of notes are same as aarohana\n",
    "    raga.notes.add(pitch=swara, start_time=s_time, end_time=s_time+0.5, velocity=80 )\n",
    "    s_time += 0.5\n",
    "  return raga "
   ]
  },
  {
   "cell_type": "code",
   "execution_count": null,
   "metadata": {
    "colab": {
     "base_uri": "https://localhost:8080/",
     "height": 292
    },
    "id": "k874QmwNmeKD",
    "outputId": "d5aabdc5-98d4-4622-8ac9-05720c540f09"
   },
   "outputs": [],
   "source": [
    "# Example raga notes\n",
    "# Mayamalavagowla ragam\n",
    "mg = play_raga(raga_notes)\n",
    "mg.total_time = 16\n",
    "mg.tempos.add(qpm=60);\n",
    "# This is a colab utility method that visualizes a NoteSequence.\n",
    "note_seq.plot_sequence(mg)\n",
    "# This is a colab utility method that plays a NoteSequence.\n",
    "note_seq.play_sequence(mg,synth=note_seq.fluidsynth)\n",
    "print(\"Mayamalavagowla [sa, ri1, ga2, ma1, pa, da1, ni2, sam] -[C,Db,E,F,G,Ab,B,C']\")"
   ]
  },
  {
   "cell_type": "code",
   "execution_count": null,
   "metadata": {
    "colab": {
     "base_uri": "https://localhost:8080/",
     "height": 292
    },
    "id": "fneBvz6Omq3-",
    "outputId": "ed585418-8a96-45f3-e711-48cc9d68b79b"
   },
   "outputs": [],
   "source": [
    "# Shankarabharanam ragam\n",
    "raga_notes = [sa, ri2, ga2, ma1, pa, da2, ni2, sam]\n",
    "sb =play_raga(raga_notes)\n",
    "sb.total_time = 16\n",
    "sb.tempos.add(qpm=60);\n",
    "note_seq.plot_sequence(sb)\n",
    "note_seq.play_sequence(sb,synth=note_seq.fluidsynth)\n",
    "print(\"Sankarabharanam [sa, ri2, ga2, ma1, pa, da2, ni2, sam] - [C,D,E,F,G,A,B,C']\")"
   ]
  },
  {
   "cell_type": "code",
   "execution_count": null,
   "metadata": {
    "colab": {
     "base_uri": "https://localhost:8080/",
     "height": 292
    },
    "id": "UJJ5giS5m0u5",
    "outputId": "bd83cda5-e060-4e41-9075-f54de9ccfb27"
   },
   "outputs": [],
   "source": [
    "# Kalyani ragam\n",
    "raga_notes = [sa, ri2, ga2, ma2, pa, da2, ni2, sam]\n",
    "kl =play_raga(raga_notes)\n",
    "kl.total_time = 16\n",
    "kl.tempos.add(qpm=60);\n",
    "note_seq.plot_sequence(kl)\n",
    "note_seq.play_sequence(kl,synth=note_seq.fluidsynth)\n",
    "print(\"Kalyani [sa, ri2, ga2, ma2, pa, da2, ni2, sam]-[C,D,E,F#,G,A,B,C']\")"
   ]
  },
  {
   "cell_type": "code",
   "execution_count": null,
   "metadata": {
    "id": "zdgh30qrqbBO"
   },
   "outputs": [],
   "source": [
    "# basic practice of raga swaras (notes)\n",
    "import magenta\n",
    "import note_seq\n",
    "import tensorflow\n",
    "\n",
    "from note_seq.protobuf import music_pb2\n",
    "\n",
    "def play_sarali_swara(raga_notes):\n",
    "    raga = music_pb2.NoteSequence() # returns the Note Sequence of a raga\n",
    "    print(raga)\n",
    "    s_time = 0.0\n",
    "    # set increment to 0.6 for 1st kalam (slow pace-1 note at a time),\n",
    "    # 0.3 for 2nd kalam (medium pace- 2 notes at a time) and\n",
    "    # 0.2 for 3rd kalam (fast pace- 4 notes at a time)\n",
    "    increment = 0.2\n",
    "    vel = 50\n",
    "    #arohana\n",
    "    # 1234-32-1232-1234 pattern\n",
    "    for s in range(2): # 1st loop for aarohana(ascending notes) and 2nd loop for avarohana(descending notes)\n",
    "        if s == 1:\n",
    "        # reverse notes for avarohana\n",
    "            raga_notes = raga_notes[::-1]\n",
    "        for i in range(5):\n",
    "            for j in range(i,i+4):\n",
    "                raga.notes.add(pitch=raga_notes[j], start_time=s_time, end_time=s_time+increment, velocity=vel )\n",
    "                s_time += increment\n",
    "            for k in range(i+2,i,-1):\n",
    "                raga.notes.add(pitch=raga_notes[k], start_time=s_time, end_time=s_time+increment, velocity=vel )\n",
    "                s_time += increment\n",
    "            for k in range(i,i+2):\n",
    "                raga.notes.add(pitch=raga_notes[k], start_time=s_time, end_time=s_time+increment, velocity=vel )\n",
    "                s_time += increment\n",
    "            for k in range(i+2,i,-1):\n",
    "                raga.notes.add(pitch=raga_notes[k], start_time=s_time, end_time=s_time+increment, velocity=vel )\n",
    "                s_time += increment\n",
    "            for j in range(i,i+4):\n",
    "                raga.notes.add(pitch=raga_notes[j], start_time=s_time, end_time=s_time+increment, velocity=vel )\n",
    "                s_time += increment\n",
    "#return Note sequence to play\n",
    "    return raga"
   ]
  },
  {
   "cell_type": "code",
   "execution_count": null,
   "metadata": {
    "colab": {
     "base_uri": "https://localhost:8080/",
     "height": 292
    },
    "id": "MuvTmlOkulYT",
    "outputId": "8f48b908-c179-4a3b-f596-4da8b1ff2e3e"
   },
   "outputs": [],
   "source": [
    "# Example raga notes\n",
    "# sarali varasai\n",
    "raga_notes = [sa, ri1, ga2, ma1, pa, da1, ni2, sam]\n",
    "sv = play_sarali_swara(raga_notes)\n",
    "#sv.total_time = 16\n",
    "#sv.tempos.add(qpm=60);\n",
    "# This is a colab utility method that visualizes a NoteSequence.\n",
    "note_seq.plot_sequence(sv)\n",
    "# This is a colab utility method that plays a NoteSequence.\n",
    "note_seq.play_sequence(sv,synth=note_seq.fluidsynth)\n",
    "#print(\"Mayamalavagowla [sa, ri1, ga2, ma1, pa, da1, ni2, sam] -[C,Db,E,F,G,Ab,B,C']\")"
   ]
  },
  {
   "cell_type": "code",
   "execution_count": null,
   "metadata": {
    "id": "sFngrJtBCUlj"
   },
   "outputs": [],
   "source": [
    "from note_seq.protobuf import music_pb2\n",
    "# Note sequence code for sri gananadha pillari geetam (used for basic training in Carnatic Music)\n",
    "# Demostrates variable length notes play\n",
    "# set starting pitch note on piano keyboard\n",
    "pitch= 60 # C5\n",
    "# 12 (7 white and 5 black keys) notes on piano keyboard octave\n",
    "sa,ri1,ri2, ga1,ga2, ma1, ma2, pa, da1,da2, ni1,ni2 = pitch, pitch+1, pitch+2, pitch+3, pitch+4, pitch+5,pitch+6,pitch+7,pitch+8,pitch+9,pitch+10,pitch+11\n",
    "sam, rim1 = pitch+12, pitch+13 # sa, ri1 of next octave\n",
    "#malahari ragam 15th Melakarta Mayamalavagowla janya (child ragam) 5 in aarohana, 6 in avarohana, ni omitted\n",
    "#aarohana_notes = [sa, ri1, ma1, pa, da1, sam] # only 5 notes in aarohana (ascending notes)\n",
    "#avarohana_notes = [sam, da1, pa, ma1, ga2, ri1, sa] # 6 notes in avarohana (descending notes)\n",
    "#roopaka talam with 6 beats pattern\n",
    "srigananadha_notes= [ma1, pa, da1, sam, sam, rim1, rim1, sam, da1, pa, ma1, pa ]\n",
    "srigananadha_notes.extend([ri1, ma1, pa, da1, ma1, pa, da1, pa, ma1, ga2, ri1, sa])\n",
    "srigananadha_notes.extend([sa, ri1, ma1, ga2, ri1, sa, ri1, ga2, ri1, sa]) #first ga2 and last sa need to be continued twice the length of other notes\n",
    "srigananadha_notes.extend([ri1, ma1, pa, da1, ma1, pa, da1, pa, ma1, ga2, ri1, sa])\n",
    "def add_note_length(raga_notes):\n",
    "    length_of_notes = 1\n",
    "    randomlist = []\n",
    "    for swara in raga_notes:\n",
    "        randomlist.append((swara, length_of_notes))\n",
    "    return randomlist\n",
    "#sri_gananadha_notes_with_length = add_note_length(srigananadha_notes)\n",
    "# use above add_notes_length() to generate note, length tuples and set variable lengths manually, as required\n",
    "sri_gananadha_notes_with_length = [(65, 1), (67, 1), (68, 1), (72, 1), (72, 1), (73, 1), (73, 1), (72, 1), (68, 1), (67, 1), (65, 1), (67, 1)]\n",
    "sri_gananadha_notes_with_length.extend([(61, 1), (65, 1), (67, 1), (68, 1), (65, 1), (67, 1), (68, 1), (67, 1), (65, 1), (64, 1), (61, 1), (60, 1)])\n",
    "#changed lengths to 3rd and last tuples below\n",
    "sri_gananadha_notes_with_length.extend([(60, 1), (61, 1), (65, 2), (64, 1), (61, 1), (60, 1), (61, 1), (64, 1), (61, 1), (60, 2)])\n",
    "sri_gananadha_notes_with_length.extend([(61, 1), (65, 1), (67, 1), (68, 1), (65, 1), (67, 1), (68, 1), (67, 1), (65, 1), (64, 1), (61, 1), (60, 1)])\n",
    "def play_srigananadha(raga_notes):\n",
    "    raga = music_pb2.NoteSequence()\n",
    "    s_time = 0.0\n",
    "    for swara in raga_notes:\n",
    "        raga.notes.add(pitch=swara[0], start_time=s_time, end_time=s_time+(0.5*swara[1]), velocity=80 )\n",
    "        s_time += 0.5*swara[1]\n",
    "    return raga\n",
    " "
   ]
  },
  {
   "cell_type": "code",
   "execution_count": null,
   "metadata": {
    "colab": {
     "base_uri": "https://localhost:8080/",
     "height": 275
    },
    "id": "UXgPCr3qFrvz",
    "outputId": "9dfb8ec0-227a-4140-f140-11a247e224d4"
   },
   "outputs": [],
   "source": [
    "malahari = play_srigananadha(sri_gananadha_notes_with_length)\n",
    "#print(malahari)\n",
    "malahari.total_time = 48\n",
    "malahari.tempos.add(qpm=60);\n",
    "note_seq.plot_sequence(malahari)\n",
    "note_seq.play_sequence(malahari,synth=note_seq.fluidsynth) "
   ]
  },
  {
   "cell_type": "code",
   "execution_count": null,
   "metadata": {
    "id": "af_MGwyhIB5m"
   },
   "outputs": [],
   "source": [
    "import random\n",
    "# set starting scale note on piano keyboard\n",
    "pitch= 60 # C5\n",
    "# 12 (7 white and 5 black keys) notes on piano keyboard octave\n",
    "sa,ri1,ri2, ga1,ga2, ma1, ma2, pa, da1,da2, ni1,ni2 = pitch, pitch+1, pitch+2, pitch+3, pitch+4, pitch+5,pitch+6,pitch+7,pitch+8,pitch+9,pitch+10,pitch+11\n",
    "sam, rim1 = pitch+12, pitch+13 # sa, ri1 of next octave\n",
    "# Mayamalavagowla raga notes to be used for random note generation from within the raga notes\n",
    "raga_notes = [sa, ri1, ga2, ma1, pa, da1, ni2, sam]\n",
    "def generate_random_notes(raga_notes):\n",
    "    raga = music_pb2.NoteSequence()\n",
    "    no_of_notes = 10 # no of random notes to be generated\n",
    "    max_length_of_notes = 2 # length of each note to be played\n",
    "    randomlist = []\n",
    "    for i in range(0,no_of_notes):\n",
    "        n = raga_notes[random.randint(0,7)] # generate random note in the given raga\n",
    "        t = random.randint(1,max_length_of_notes) # generate random length to play note\n",
    "        randomlist.append((n,t))\n",
    "    return randomlist\n",
    "def play_random_notes(raga_notes):\n",
    "    raga = music_pb2.NoteSequence()\n",
    "    s_time = 0.0\n",
    "    for swara in raga_notes:\n",
    "        raga.notes.add(pitch=swara[0], start_time=s_time, end_time=s_time+(0.5*swara[1]), velocity=80 )\n",
    "        s_time += 0.5*swara[1]\n",
    "    return raga\n"
   ]
  },
  {
   "cell_type": "code",
   "execution_count": null,
   "metadata": {
    "colab": {
     "base_uri": "https://localhost:8080/"
    },
    "id": "LPK7c2wBJ3s8",
    "outputId": "3ff7a7e5-0beb-45a6-bb37-2c791cf4daa5"
   },
   "outputs": [],
   "source": [
    "#send this to NodeSequence to generate raga notes\n",
    "random_notes = generate_random_notes(raga_notes)\n",
    "print(random_notes)"
   ]
  },
  {
   "cell_type": "code",
   "execution_count": null,
   "metadata": {
    "colab": {
     "base_uri": "https://localhost:8080/",
     "height": 275
    },
    "id": "-RCvAfI4Q3JG",
    "outputId": "9cec2f54-c8ad-4128-c6bb-76a134498f5a"
   },
   "outputs": [],
   "source": [
    "random_notes_play = play_random_notes(random_notes)\n",
    "random_notes_play.total_time = 100\n",
    "random_notes_play.tempos.add(qpm=60);\n",
    "note_seq.plot_sequence(random_notes_play)\n",
    "note_seq.play_sequence(random_notes_play,synth=note_seq.fluidsynth)"
   ]
  },
  {
   "cell_type": "code",
   "execution_count": null,
   "metadata": {
    "colab": {
     "base_uri": "https://localhost:8080/"
    },
    "id": "MvpN_mP6DqgX",
    "outputId": "da654c84-76f8-457b-e896-d6ac176ed979"
   },
   "outputs": [],
   "source": [
    "# Initialize model\n",
    "print('Downloading model bundle. This will take less than a minute...')\n",
    "# you can change it to lookback_rnn or attention_rnn, instead of basic_rnn, as required\n",
    "note_seq.notebook_utils.download_bundle('basic_rnn.mag', '/content/')\n",
    "# Import dependencies.\n",
    "from magenta.models.melody_rnn import melody_rnn_sequence_generator\n",
    "from magenta.models.shared import sequence_generator_bundle\n",
    "from note_seq.protobuf import generator_pb2\n",
    "from note_seq.protobuf import music_pb2\n",
    "# Initialize the model.\n",
    "print(\"Initializing Melody RNN...\")\n",
    "bundle = sequence_generator_bundle.read_bundle_file('/content/basic_rnn.mag')\n",
    "generator_map = melody_rnn_sequence_generator.get_generator_map()\n",
    "melody_rnn = generator_map['basic_rnn'](checkpoint=None, bundle=bundle)\n",
    "melody_rnn.initialize()\n",
    "print('🎉 Done!')\n",
    "#Continuing a sequence\n",
    "#Melody_RNN generates note sequences beyond raga notes\n",
    "#This is not a desired outcome pattern for raga\n",
    "# Model options. Change these to get different generated sequences!\n",
    "input_sequence = malahari # change this to any raga sequence you used earlier, if you want\n",
    "num_steps = 150 # change this for shorter or longer sequences\n",
    "temperature = 1.0 # the higher the temperature the more random the sequence.\n",
    "# Set the start time to begin on the next step after the last note ends.\n",
    "last_end_time = (max(n.end_time for n in input_sequence.notes)\n",
    "if input_sequence.notes else 0)\n",
    "qpm = input_sequence.tempos[0].qpm\n",
    "seconds_per_step = 60.0 / qpm / melody_rnn.steps_per_quarter\n",
    "total_seconds = num_steps * seconds_per_step\n",
    "generator_options = generator_pb2.GeneratorOptions()\n",
    "generator_options.args['temperature'].float_value = temperature\n",
    "generate_section = generator_options.generate_sections.add(\n",
    "start_time=last_end_time + seconds_per_step,\n",
    "end_time=total_seconds)\n"
   ]
  },
  {
   "cell_type": "code",
   "execution_count": null,
   "metadata": {
    "colab": {
     "base_uri": "https://localhost:8080/",
     "height": 292
    },
    "id": "1JLq1E_MF5Yy",
    "outputId": "10505bb3-08a1-4b7e-ff0d-43118c6b0eb0"
   },
   "outputs": [],
   "source": [
    "# Ask the model to continue the sequence.\n",
    "sequence = melody_rnn.generate(input_sequence, generator_options)\n",
    "note_seq.plot_sequence(sequence)\n",
    "note_seq.play_sequence(sequence, synth=note_seq.fluidsynth)"
   ]
  },
  {
   "cell_type": "markdown",
   "metadata": {
    "id": "12ltqMzXStrl"
   },
   "source": []
  },
  {
   "cell_type": "markdown",
   "metadata": {
    "id": "QhtRBNNf05CA"
   },
   "source": [
    "## Converting a `NoteSequence` to MIDI\n",
    "\n",
    "When you called the \"play_sequence\" method above, this converted the `NoteSequence` to MIDI, and created an HTML widget to play it. This method is specially made for colab notebooks, so it won't work inside your Python script. That method uses the Magenta built-in [conversion methods](https://github.com/magenta/note-seq/blob/main/note_seq/midi_io.py#L51), which you can use in your python script:"
   ]
  },
  {
   "cell_type": "code",
   "execution_count": null,
   "metadata": {
    "colab": {
     "base_uri": "https://localhost:8080/",
     "height": 17
    },
    "id": "EcmmAToP4WE3",
    "outputId": "5425ae7f-b47a-45ca-b2c1-d9c5461ac1cf"
   },
   "outputs": [],
   "source": [
    "# This creates a file called `drums_sample_output.mid`, containing the drums solo we've been using.\n",
    "note_seq.sequence_proto_to_midi_file(drums, 'drums_sample_output.mid')\n",
    "\n",
    "# This is a colab utility method to download that file. In your Python script, you \n",
    "# would just write it to disk.\n",
    "files.download('drums_sample_output.mid')"
   ]
  },
  {
   "cell_type": "markdown",
   "metadata": {
    "id": "9YalOCM_5JP6"
   },
   "source": [
    "## Useful helpers\n",
    "There are a lot of other helper methods sprinkled around the `note_seq` codebase that you might need but not know where to find. Here are some of our favourites:\n",
    "\n",
    "- [converting](https://github.com/magenta/note-seq/blob/main/note_seq/midi_io.py) between MIDI and NoteSequences\n",
    "- [trimming, concatenating and expanding](https://github.com/magenta/note-seq/blob/main/note_seq/sequences_lib.py) NoteSequences\n",
    "- [colab notebook](https://github.com/magenta/note-seq/blob/main/note_seq/notebook_utils.py) utils"
   ]
  },
  {
   "cell_type": "markdown",
   "metadata": {
    "id": "K1o5dZjR57c_"
   },
   "source": [
    "# Step 2. Using Machine Learning to make music\n",
    "\n",
    "`note_seq` has several Machine Learning models, each with different strengths. All models are built with [Tensorflow](https://www.tensorflow.org), so they will run faster if you can run them on a GPU. Here are some of the most popular ones:\n",
    "\n",
    "- [**MelodyRNN**](https://github.com/magenta/magenta/tree/main/magenta/models/melody_rnn) - you give it a NoteSequence, and it continues it in the style of your original NoteSequence.\n",
    "- [**MusicVAE**](https://github.com/magenta/magenta/tree/main/magenta/models/music_vae) - generates brand new NoteSequences or interpolates between two sequences.\n",
    "- [**Onsets and Frames**](https://github.com/magenta/magenta/tree/main/magenta/models/onsets_frames_transcription) -- transcribes piano audio\n",
    "\n",
    "Now that we know how to use `NoteSequences`, adding some basic Machine Learning is a continuation of that. The pattern for using any of these models is:\n",
    "\n",
    "- Load `note_seq` (which we already know how to do!)\n",
    "- Create a model from a downloaded checkpoint (i.e. where the weights, or the encoding, of the model lives)\n",
    "- Ask the model to do something."
   ]
  },
  {
   "cell_type": "markdown",
   "metadata": {
    "id": "_Pm3kdH0-DaH"
   },
   "source": [
    "## Melody RNN\n",
    "\n",
    "A MelodyRNN is an [LSTM-based](https://colah.github.io/posts/2015-08-Understanding-LSTMs/) language model for musical notes -- it is best at continuing a NoteSequence that you give it.\n",
    "\n",
    "To use it, you need to give it a sequence to continue and the model will return the following sequence.\n",
    "\n",
    "This example shows how to use the basic Melody RNN model -- check out the [docs](https://github.com/magenta/magenta/tree/main/magenta/models/melody_rnn) for the other models, such as `lookback_rnn` and `attention_rnn`."
   ]
  },
  {
   "cell_type": "markdown",
   "metadata": {
    "id": "zdPBBzSY-P38"
   },
   "source": [
    "### Initialize the model"
   ]
  },
  {
   "cell_type": "code",
   "execution_count": null,
   "metadata": {
    "id": "7Y0VkNafNKLP"
   },
   "outputs": [],
   "source": [
    "print('Downloading model bundle. This will take less than a minute...')\n",
    "note_seq.notebook_utils.download_bundle('basic_rnn.mag', '/content/')\n",
    "\n",
    "# Import dependencies.\n",
    "from magenta.models.melody_rnn import melody_rnn_sequence_generator\n",
    "from magenta.models.shared import sequence_generator_bundle\n",
    "from note_seq.protobuf import generator_pb2\n",
    "from note_seq.protobuf import music_pb2\n",
    "\n",
    "# Initialize the model.\n",
    "print(\"Initializing Melody RNN...\")\n",
    "bundle = sequence_generator_bundle.read_bundle_file('/content/basic_rnn.mag')\n",
    "generator_map = melody_rnn_sequence_generator.get_generator_map()\n",
    "melody_rnn = generator_map['basic_rnn'](checkpoint=None, bundle=bundle)\n",
    "melody_rnn.initialize()\n",
    "\n",
    "print('🎉 Done!')"
   ]
  },
  {
   "cell_type": "markdown",
   "metadata": {
    "id": "SlYDyTA0-UJT"
   },
   "source": [
    "### Continuing a sequence\n",
    "\n",
    "With Melody RNN, you can configure the number of steps the new sequence will be, as well as the \"temperature\" of the result -- the higher the temperature, the more random (and less like the input) your sequence will be. You can play around with these values and see how the resulting sequences are different:"
   ]
  },
  {
   "cell_type": "code",
   "execution_count": null,
   "metadata": {
    "colab": {
     "base_uri": "https://localhost:8080/",
     "height": 292
    },
    "id": "LgREckzBmd-8",
    "outputId": "7c39d885-eb94-4132-88a9-8c4f710ed794"
   },
   "outputs": [],
   "source": [
    "# Model options. Change these to get different generated sequences! \n",
    "\n",
    "input_sequence = twinkle_twinkle # change this to teapot if you want\n",
    "num_steps = 128 # change this for shorter or longer sequences\n",
    "temperature = 1.0 # the higher the temperature the more random the sequence.\n",
    "\n",
    "# Set the start time to begin on the next step after the last note ends.\n",
    "last_end_time = (max(n.end_time for n in input_sequence.notes)\n",
    "                  if input_sequence.notes else 0)\n",
    "qpm = input_sequence.tempos[0].qpm \n",
    "seconds_per_step = 60.0 / qpm / melody_rnn.steps_per_quarter\n",
    "total_seconds = num_steps * seconds_per_step\n",
    "\n",
    "generator_options = generator_pb2.GeneratorOptions()\n",
    "generator_options.args['temperature'].float_value = temperature\n",
    "generate_section = generator_options.generate_sections.add(\n",
    "  start_time=last_end_time + seconds_per_step,\n",
    "  end_time=total_seconds)\n",
    "\n",
    "# Ask the model to continue the sequence.\n",
    "sequence = melody_rnn.generate(input_sequence, generator_options)\n",
    "\n",
    "note_seq.plot_sequence(sequence)\n",
    "note_seq.play_sequence(sequence, synth=note_seq.fluidsynth)\n"
   ]
  },
  {
   "cell_type": "markdown",
   "metadata": {
    "id": "7zp--0n5FSDm"
   },
   "source": [
    "## Music VAE\n",
    "\n",
    "A [MusicVAE](https://g.co/magenta/musicvae) is a variational autoencoder made up of an Encoder and Decoder -- you can think of the encoder as trying to summarize all the data you give it, and the decoder as trying to recreate the original data, based on this summarized version. As a generative model, you can think of a VAE as coming up with new sequences that could be a decoding of some summarized version.\n",
    "\n",
    "The Music VAE implementation in `magenta/music` in particular does two things: it can create new sequences (which are reconstructions or variations of the input data), or it can interpolate between two."
   ]
  },
  {
   "cell_type": "markdown",
   "metadata": {
    "id": "Lcx5W1417IP3"
   },
   "source": [
    "### Initialize the model"
   ]
  },
  {
   "cell_type": "code",
   "execution_count": null,
   "metadata": {
    "cellView": "both",
    "colab": {
     "base_uri": "https://localhost:8080/"
    },
    "id": "FDW3h0cqUERq",
    "outputId": "7cd5f6e1-4b02-4a5b-ccb5-6748bba7437c"
   },
   "outputs": [],
   "source": [
    "print('Copying checkpoint from GCS. This will take less than a minute...')\n",
    "# This will download the mel_2bar_big checkpoint. There are more checkpoints that you\n",
    "# can use with this model, depending on what kind of output you want\n",
    "# See the list of checkpoints: https://github.com/magenta/magenta/tree/main/magenta/models/music_vae#pre-trained-checkpoints\n",
    "!gsutil -q -m cp -R gs://download.magenta.tensorflow.org/models/music_vae/colab2/checkpoints/mel_2bar_big.ckpt.* /content/\n",
    "\n",
    "# Import dependencies.\n",
    "from magenta.models.music_vae import configs\n",
    "from magenta.models.music_vae.trained_model import TrainedModel\n",
    "\n",
    "# Initialize the model.\n",
    "print(\"Initializing Music VAE...\")\n",
    "music_vae = TrainedModel(\n",
    "      configs.CONFIG_MAP['cat-mel_2bar_big'], \n",
    "      batch_size=4, \n",
    "      checkpoint_dir_or_path='/content/mel_2bar_big.ckpt')\n",
    "\n",
    "print('🎉 Done!')\n"
   ]
  },
  {
   "cell_type": "markdown",
   "metadata": {
    "id": "APjD-ph4Fn3Q"
   },
   "source": [
    "### Creating new sequences\n",
    "\n",
    "With Music VAE, you can configure how many new sequences to generate, the number of steps the new sequence will be, as well as the \"temperature\" of the result -- the higher the temperature, the more random (and less like the input) your sequence will be. You can play around with these values and see how the resulting sequences are different:"
   ]
  },
  {
   "cell_type": "code",
   "execution_count": null,
   "metadata": {
    "cellView": "both",
    "colab": {
     "base_uri": "https://localhost:8080/",
     "height": 533
    },
    "id": "XKk8rGihUR6B",
    "outputId": "93b2e45a-db9a-4470-ce26-ef049a5d488b"
   },
   "outputs": [],
   "source": [
    "generated_sequences = music_vae.sample(n=2, length=80, temperature=1.0)\n",
    "\n",
    "for ns in generated_sequences:\n",
    "  # print(ns)\n",
    "  note_seq.plot_sequence(ns)\n",
    "  note_seq.play_sequence(ns, synth=note_seq.fluidsynth)"
   ]
  },
  {
   "cell_type": "markdown",
   "metadata": {
    "id": "OSq4nJfL-Y2y"
   },
   "source": [
    "### Interpolating between two sequences"
   ]
  },
  {
   "cell_type": "code",
   "execution_count": null,
   "metadata": {
    "colab": {
     "base_uri": "https://localhost:8080/",
     "height": 275
    },
    "id": "NjHUvtn5-daA",
    "outputId": "d13b5b64-570f-4f8c-ff04-67f6e5875099"
   },
   "outputs": [],
   "source": [
    "# We're going to interpolate between the Twinkle Twinkle Little Star\n",
    "# NoteSequence we defined in the first section, and one of the generated\n",
    "# sequences from the previous VAE example\n",
    "\n",
    "# How many sequences, including the start and end ones, to generate.\n",
    "num_steps = 8;\n",
    "\n",
    "# This gives us a list of sequences.\n",
    "note_sequences = music_vae.interpolate(\n",
    "      mg,\n",
    "      twinkle_twinkle, \n",
    "      num_steps=num_steps,\n",
    "      length=32)\n",
    "\n",
    "# Concatenate them into one long sequence, with the start and \n",
    "# end sequences at each end. \n",
    "interp_seq = note_seq.sequences_lib.concatenate_sequences(note_sequences)\n",
    "\n",
    "note_seq.play_sequence(interp_seq, synth=note_seq.fluidsynth)\n",
    "note_seq.plot_sequence(interp_seq)"
   ]
  },
  {
   "cell_type": "code",
   "execution_count": null,
   "metadata": {
    "id": "VTgqaRh2d7tr"
   },
   "outputs": [],
   "source": []
  },
  {
   "cell_type": "markdown",
   "metadata": {
    "id": "Ho6gRbJ4Qgkj"
   },
   "source": [
    "# That's it!\n",
    "\n",
    "You're now ready to build your own amazing, Machine Learning powered, music instrument! If you want more information, you can check out:\n",
    "\n",
    "- some [demos](https://magenta.tensorflow.org/demos) `#MadeWithMagenta`\n",
    "- some more of our [Colab notebooks](https://magenta.tensorflow.org/demos#colab-notebooks)\n",
    "- the [documentation](https://github.com/magenta/magenta)\n",
    "- the [Magenta blog](https://magenta.tensorflow.org/blog), which talks about all the mathy bits we skipped.\n",
    "\n",
    "Have fun! 💕"
   ]
  }
 ],
 "metadata": {
  "colab": {
   "collapsed_sections": [],
   "name": "Hello Magenta.ipynb",
   "provenance": [],
   "toc_visible": true
  },
  "kernelspec": {
   "display_name": "Python 3 (ipykernel)",
   "language": "python",
   "name": "python3"
  },
  "language_info": {
   "codemirror_mode": {
    "name": "ipython",
    "version": 3
   },
   "file_extension": ".py",
   "mimetype": "text/x-python",
   "name": "python",
   "nbconvert_exporter": "python",
   "pygments_lexer": "ipython3",
   "version": "3.9.7"
  }
 },
 "nbformat": 4,
 "nbformat_minor": 1
}
